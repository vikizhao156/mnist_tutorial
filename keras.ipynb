{
 "cells": [
  {
   "cell_type": "markdown",
   "metadata": {},
   "source": [
    "# Keras Tutorial"
   ]
  },
  {
   "cell_type": "markdown",
   "metadata": {},
   "source": [
    "Keras is a popular deep learning framework and it's easy to get started."
   ]
  },
  {
   "cell_type": "code",
   "execution_count": 12,
   "metadata": {},
   "outputs": [],
   "source": [
    "import keras\n",
    "import os\n",
    "os.environ['KERAS_BACKEND']='tensorflow'\n",
    "from keras.datasets import mnist\n",
    "from keras.models import Sequential\n",
    "from keras.layers import Dense, Dropout, Flatten, Conv2D, MaxPooling2D\n",
    "from keras.optimizers import Adam\n",
    "BATCH_SIZE = 128\n",
    "NUM_CLASSES = 10\n",
    "NUM_EPOCHS = 10"
   ]
  },
  {
   "cell_type": "markdown",
   "metadata": {},
   "source": [
    "First, we read the mnist data and preprocess them."
   ]
  },
  {
   "cell_type": "code",
   "execution_count": 13,
   "metadata": {},
   "outputs": [],
   "source": [
    "# download and load the data (split them between train and test sets)\n",
    "(x_train, y_train), (x_test, y_test) = mnist.load_data()\n",
    "\n",
    "# expand the channel dimension\n",
    "x_train = x_train.reshape(x_train.shape[0], 28, 28, 1)\n",
    "x_test = x_test.reshape(x_test.shape[0], 28, 28, 1)\n",
    "input_shape = (28, 28, 1)\n",
    "\n",
    "# make the value of pixels from [0, 255] to [0, 1] for further process\n",
    "x_train = x_train.astype('float32') / 255.\n",
    "x_test = x_test.astype('float32') / 255.\n",
    "\n",
    "# convert class vectors to binary class matrics\n",
    "y_train = keras.utils.to_categorical(y_train, NUM_CLASSES)\n",
    "y_test = keras.utils.to_categorical(y_test, NUM_CLASSES)"
   ]
  },
  {
   "cell_type": "markdown",
   "metadata": {},
   "source": [
    "Then, we define the model, object function and optimizer that we use to classify."
   ]
  },
  {
   "cell_type": "code",
   "execution_count": 14,
   "metadata": {},
   "outputs": [],
   "source": [
    "# define the model\n",
    "model = Sequential()\n",
    "model.add(Conv2D(\n",
    "    input_shape = (28,28,1),\n",
    "    filters = 32,\n",
    "    kernel_size = 5,\n",
    "    strides = 1,\n",
    "    padding = 'same',\n",
    "    activation = 'relu'))#第一层卷积层\n",
    "model.add(MaxPooling2D(\n",
    "    pool_size = 2,\n",
    "    strides = 2,\n",
    "    padding = 'same'))#第一层池化层\n",
    "model.add(Conv2D(64,5,strides = 1,padding='same',activation = 'relu'))#第二层卷积层\n",
    "model.add(MaxPooling2D(2,2,'same'))#第二层池化层\n",
    "model.add(Flatten())#拉成1维为全连接做准备\n",
    "model.add(Dense(1024,activation = 'relu'))\n",
    "model.add(Dropout(0.5))#Dropout层，用来防止过拟合，但有人说不好用\n",
    "model.add(Dense(10,activation='softmax'))\n",
    "adam = Adam(lr=1e-4)#ADAM优化器\n",
    "# define the object function, optimizer and metrics\n",
    "model.compile(optimizer=adam,loss='categorical_crossentropy',metrics=['accuracy'])"
   ]
  },
  {
   "cell_type": "markdown",
   "metadata": {},
   "source": [
    "Next, we can start to train and evaluate!"
   ]
  },
  {
   "cell_type": "code",
   "execution_count": 15,
   "metadata": {
    "scrolled": true
   },
   "outputs": [
    {
     "name": "stdout",
     "output_type": "stream",
     "text": [
      "Epoch 1/10\n",
      "60000/60000 [==============================] - 134s 2ms/step - loss: 0.3323 - accuracy: 0.9055\n",
      "Epoch 2/10\n",
      "60000/60000 [==============================] - 134s 2ms/step - loss: 0.0926 - accuracy: 0.9720\n",
      "Epoch 3/10\n",
      "60000/60000 [==============================] - 130s 2ms/step - loss: 0.0636 - accuracy: 0.9808\n",
      "Epoch 4/10\n",
      "60000/60000 [==============================] - 134s 2ms/step - loss: 0.0500 - accuracy: 0.9842\n",
      "Epoch 5/10\n",
      "60000/60000 [==============================] - 134s 2ms/step - loss: 0.0428 - accuracy: 0.9866\n",
      "Epoch 6/10\n",
      "60000/60000 [==============================] - 125s 2ms/step - loss: 0.0352 - accuracy: 0.9893\n",
      "Epoch 7/10\n",
      "60000/60000 [==============================] - 131s 2ms/step - loss: 0.0304 - accuracy: 0.9902\n",
      "Epoch 8/10\n",
      "60000/60000 [==============================] - 131s 2ms/step - loss: 0.0268 - accuracy: 0.9918\n",
      "Epoch 9/10\n",
      "60000/60000 [==============================] - 131s 2ms/step - loss: 0.0240 - accuracy: 0.9925\n",
      "Epoch 10/10\n",
      "60000/60000 [==============================] - 136s 2ms/step - loss: 0.0204 - accuracy: 0.9936\n",
      "60000/60000 [==============================] - 23s 385us/step\n",
      "Training loss: 0.0117, Training accuracy: 1.00%\n",
      "10000/10000 [==============================] - 4s 386us/step\n",
      "Testing loss: 0.0208, Testing accuracy: 0.99%\n"
     ]
    }
   ],
   "source": [
    "# train\n",
    "model.fit(x_train,y_train,batch_size=64,epochs=10)\n",
    "\n",
    "# evaluate\n",
    "loss,accuracy = model.evaluate(x_train,y_train)\n",
    "print('Training loss: %.4f, Training accuracy: %.2f%%' % (loss,accuracy))\n",
    "loss,accuracy = model.evaluate(x_test,y_test)\n",
    "print('Testing loss: %.4f, Testing accuracy: %.2f%%' % (loss,accuracy))"
   ]
  },
  {
   "cell_type": "code",
   "execution_count": 18,
   "metadata": {},
   "outputs": [
    {
     "name": "stdout",
     "output_type": "stream",
     "text": [
      "60000/60000 [==============================] - 24s 392us/step\n",
      "Training loss: 0.0117, Training accuracy: 99.67%\n",
      "10000/10000 [==============================] - 4s 398us/step\n",
      "Testing loss: 0.0208, Testing accuracy: 99.21%\n"
     ]
    }
   ],
   "source": [
    "\n",
    "# evaluate\n",
    "loss,accuracy = model.evaluate(x_train,y_train)\n",
    "print('Training loss: %.4f, Training accuracy: %.2f%%' % (loss,accuracy*100.0))\n",
    "loss,accuracy = model.evaluate(x_test,y_test)\n",
    "print('Testing loss: %.4f, Testing accuracy: %.2f%%' % (loss,accuracy*100.0))"
   ]
  },
  {
   "cell_type": "markdown",
   "metadata": {},
   "source": [
    "#### Q6:\n",
    "Please print the training and testing accuracy."
   ]
  }
 ],
 "metadata": {
  "kernelspec": {
   "display_name": "Python 3",
   "language": "python",
   "name": "python3"
  },
  "language_info": {
   "codemirror_mode": {
    "name": "ipython",
    "version": 3
   },
   "file_extension": ".py",
   "mimetype": "text/x-python",
   "name": "python",
   "nbconvert_exporter": "python",
   "pygments_lexer": "ipython3",
   "version": "3.7.4"
  }
 },
 "nbformat": 4,
 "nbformat_minor": 2
}
